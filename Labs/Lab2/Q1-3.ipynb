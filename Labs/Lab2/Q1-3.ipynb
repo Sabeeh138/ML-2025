{
 "cells": [
  {
   "cell_type": "code",
   "execution_count": null,
   "id": "ed034a8c",
   "metadata": {},
   "outputs": [],
   "source": [
    "# TASK 1"
   ]
  },
  {
   "cell_type": "code",
   "execution_count": 3,
   "id": "2df54d53",
   "metadata": {},
   "outputs": [
    {
     "name": "stdout",
     "output_type": "stream",
     "text": [
      "(27033, 9)\n"
     ]
    },
    {
     "data": {
      "text/plain": [
       "Index(['fid', 'name', 'population', 'county', 'latitude', 'longitude', 'level',\n",
       "       'enrollment', 'level.1'],\n",
       "      dtype='object')"
      ]
     },
     "execution_count": 3,
     "metadata": {},
     "output_type": "execute_result"
    }
   ],
   "source": [
    "import pandas as pd\n",
    "\n",
    "data1 = pd.read_csv('Lab2 D1A.csv')\n",
    "data2 = pd.read_csv('Lab2 D1B.csv')\n",
    "#data3 = pd.read_csv('Lab2 D1C.csv')\n",
    "\n",
    "mergeddata = data1.merge(data2, on=list(data1.columns.intersection(data2.columns)), how='outer')\n",
    "print(mergeddata.shape)\n",
    "mergeddata.columns"
   ]
  },
  {
   "cell_type": "code",
   "execution_count": 4,
   "id": "8702d55a",
   "metadata": {},
   "outputs": [
    {
     "name": "stdout",
     "output_type": "stream",
     "text": [
      "(4221333, 7)\n"
     ]
    },
    {
     "data": {
      "text/plain": [
       "Index(['fid', 'name', 'population', 'county', 'latitude', 'city', 'score'], dtype='object')"
      ]
     },
     "execution_count": 4,
     "metadata": {},
     "output_type": "execute_result"
    }
   ],
   "source": [
    "data3 = pd.read_csv('Lab2 D1C.csv')\n",
    "comboAC = pd.merge(data1, data3,  how='inner')\n",
    "print(comboAC.shape)\n",
    "comboAC.columns"
   ]
  },
  {
   "cell_type": "code",
   "execution_count": 1,
   "id": "11f5b9a1",
   "metadata": {},
   "outputs": [],
   "source": [
    "# TASK 2"
   ]
  },
  {
   "cell_type": "code",
   "execution_count": 5,
   "id": "81ae300e",
   "metadata": {},
   "outputs": [
    {
     "data": {
      "text/html": [
       "<div>\n",
       "<style scoped>\n",
       "    .dataframe tbody tr th:only-of-type {\n",
       "        vertical-align: middle;\n",
       "    }\n",
       "\n",
       "    .dataframe tbody tr th {\n",
       "        vertical-align: top;\n",
       "    }\n",
       "\n",
       "    .dataframe thead th {\n",
       "        text-align: right;\n",
       "    }\n",
       "</style>\n",
       "<table border=\"1\" class=\"dataframe\">\n",
       "  <thead>\n",
       "    <tr style=\"text-align: right;\">\n",
       "      <th></th>\n",
       "      <th>county</th>\n",
       "      <th>Size</th>\n",
       "      <th>cardinal direction</th>\n",
       "      <th>Timings</th>\n",
       "      <th>Department</th>\n",
       "      <th>Revenue</th>\n",
       "    </tr>\n",
       "  </thead>\n",
       "  <tbody>\n",
       "    <tr>\n",
       "      <th>0</th>\n",
       "      <td>BRISTOL</td>\n",
       "      <td>high</td>\n",
       "      <td>East</td>\n",
       "      <td>part time</td>\n",
       "      <td>HR</td>\n",
       "      <td>3334.213895</td>\n",
       "    </tr>\n",
       "    <tr>\n",
       "      <th>1</th>\n",
       "      <td>BRISTOL</td>\n",
       "      <td>small</td>\n",
       "      <td>West</td>\n",
       "      <td>full time</td>\n",
       "      <td>Sales</td>\n",
       "      <td>1938.621961</td>\n",
       "    </tr>\n",
       "    <tr>\n",
       "      <th>2</th>\n",
       "      <td>WORCESTER</td>\n",
       "      <td>small</td>\n",
       "      <td>West</td>\n",
       "      <td>part time</td>\n",
       "      <td>Sales</td>\n",
       "      <td>2245.096725</td>\n",
       "    </tr>\n",
       "    <tr>\n",
       "      <th>3</th>\n",
       "      <td>PLYMOUTH</td>\n",
       "      <td>high</td>\n",
       "      <td>South</td>\n",
       "      <td>full time</td>\n",
       "      <td>Marketing</td>\n",
       "      <td>4604.512542</td>\n",
       "    </tr>\n",
       "    <tr>\n",
       "      <th>4</th>\n",
       "      <td>WORCESTER</td>\n",
       "      <td>small</td>\n",
       "      <td>East</td>\n",
       "      <td>part time</td>\n",
       "      <td>Sales</td>\n",
       "      <td>1525.380647</td>\n",
       "    </tr>\n",
       "    <tr>\n",
       "      <th>...</th>\n",
       "      <td>...</td>\n",
       "      <td>...</td>\n",
       "      <td>...</td>\n",
       "      <td>...</td>\n",
       "      <td>...</td>\n",
       "      <td>...</td>\n",
       "    </tr>\n",
       "    <tr>\n",
       "      <th>26978</th>\n",
       "      <td>WAUPACA</td>\n",
       "      <td>high</td>\n",
       "      <td>West</td>\n",
       "      <td>part time</td>\n",
       "      <td>Sales</td>\n",
       "      <td>3310.304291</td>\n",
       "    </tr>\n",
       "    <tr>\n",
       "      <th>26979</th>\n",
       "      <td>WAUPACA</td>\n",
       "      <td>medium</td>\n",
       "      <td>South</td>\n",
       "      <td>part time</td>\n",
       "      <td>HR</td>\n",
       "      <td>4789.294147</td>\n",
       "    </tr>\n",
       "    <tr>\n",
       "      <th>26980</th>\n",
       "      <td>WAUSHARA</td>\n",
       "      <td>medium</td>\n",
       "      <td>South</td>\n",
       "      <td>full time</td>\n",
       "      <td>HR</td>\n",
       "      <td>3941.736581</td>\n",
       "    </tr>\n",
       "    <tr>\n",
       "      <th>26981</th>\n",
       "      <td>WAUSHARA</td>\n",
       "      <td>small</td>\n",
       "      <td>North</td>\n",
       "      <td>part time</td>\n",
       "      <td>Sales</td>\n",
       "      <td>1889.717549</td>\n",
       "    </tr>\n",
       "    <tr>\n",
       "      <th>26982</th>\n",
       "      <td>WAUSHARA</td>\n",
       "      <td>high</td>\n",
       "      <td>South</td>\n",
       "      <td>part time</td>\n",
       "      <td>HR</td>\n",
       "      <td>4389.046041</td>\n",
       "    </tr>\n",
       "  </tbody>\n",
       "</table>\n",
       "<p>26983 rows × 6 columns</p>\n",
       "</div>"
      ],
      "text/plain": [
       "          county    Size cardinal direction    Timings Department      Revenue\n",
       "0        BRISTOL    high               East  part time         HR  3334.213895\n",
       "1        BRISTOL   small               West  full time      Sales  1938.621961\n",
       "2      WORCESTER   small               West  part time      Sales  2245.096725\n",
       "3       PLYMOUTH    high              South  full time  Marketing  4604.512542\n",
       "4      WORCESTER   small               East  part time      Sales  1525.380647\n",
       "...          ...     ...                ...        ...        ...          ...\n",
       "26978    WAUPACA    high               West  part time      Sales  3310.304291\n",
       "26979    WAUPACA  medium              South  part time         HR  4789.294147\n",
       "26980   WAUSHARA  medium              South  full time         HR  3941.736581\n",
       "26981   WAUSHARA   small              North  part time      Sales  1889.717549\n",
       "26982   WAUSHARA    high              South  part time         HR  4389.046041\n",
       "\n",
       "[26983 rows x 6 columns]"
      ]
     },
     "execution_count": 5,
     "metadata": {},
     "output_type": "execute_result"
    }
   ],
   "source": [
    "import numpy as np\n",
    "\n",
    "c1 = data1[['county']]\n",
    "\n",
    "customizedData = pd.DataFrame(c1)\n",
    "\n",
    "customizedData['Size'] = np.random.choice(['small', 'medium', 'high'], size=len(customizedData))\n",
    "customizedData['cardinal direction'] = np.random.choice(['North', 'South', 'East', 'West'], size=len(customizedData))\n",
    "customizedData['Timings'] = np.random.choice(['full time', 'part time'], size=len(customizedData))\n",
    "customizedData['Department'] = np.random.choice(['HR','Sales','Marketing'], size=len(customizedData))\n",
    "customizedData['Revenue'] = np.random.uniform(1000, 5000, size=len(customizedData))\n",
    "\n",
    "customizedData"
   ]
  },
  {
   "cell_type": "code",
   "execution_count": null,
   "id": "6acac5c2",
   "metadata": {},
   "outputs": [
    {
     "name": "stdout",
     "output_type": "stream",
     "text": [
      "Data1 shape: (26983, 5)\n",
      "Data2 shape: (26983, 7)\n",
      "Data3 shape: (26983, 3)\n",
      "CustomizedData shape: (26983, 6)\n"
     ]
    }
   ],
   "source": [
    "print(\"Data1 shape:\", data1.shape)\n",
    "print(\"Data2 shape:\", data2.shape)\n",
    "print(\"Data3 shape:\", data3.shape)\n",
    "print(\"CustomizedData shape:\", customizedData.shape)\n",
    "\n",
    "\n",
    "modifiedData = pd.merge(data2, data1, on=\"county\", how='inner')\n",
    "modifiedData = modifiedData.merge(data3, on=\"county\", how='inner')\n",
    "modifiedData = modifiedData.merge(customizedData, on=\"county\", how='inner')\n",
    "\n",
    "print(modifiedData.shape)\n",
    "modifiedData"
   ]
  },
  {
   "cell_type": "code",
   "execution_count": null,
   "id": "80a269f7",
   "metadata": {},
   "outputs": [],
   "source": [
    "# TASK 3"
   ]
  },
  {
   "cell_type": "code",
   "execution_count": 2,
   "id": "a7a5a273",
   "metadata": {},
   "outputs": [
    {
     "name": "stdout",
     "output_type": "stream",
     "text": [
      "(76020, 371)\n"
     ]
    },
    {
     "data": {
      "text/html": [
       "<div>\n",
       "<style scoped>\n",
       "    .dataframe tbody tr th:only-of-type {\n",
       "        vertical-align: middle;\n",
       "    }\n",
       "\n",
       "    .dataframe tbody tr th {\n",
       "        vertical-align: top;\n",
       "    }\n",
       "\n",
       "    .dataframe thead th {\n",
       "        text-align: right;\n",
       "    }\n",
       "</style>\n",
       "<table border=\"1\" class=\"dataframe\">\n",
       "  <thead>\n",
       "    <tr style=\"text-align: right;\">\n",
       "      <th></th>\n",
       "      <th>ID</th>\n",
       "      <th>var3</th>\n",
       "      <th>var15</th>\n",
       "      <th>imp_ent_var16_ult1</th>\n",
       "      <th>imp_op_var39_comer_ult1</th>\n",
       "      <th>imp_op_var39_comer_ult3</th>\n",
       "      <th>imp_op_var40_comer_ult1</th>\n",
       "      <th>imp_op_var40_comer_ult3</th>\n",
       "      <th>imp_op_var40_efect_ult1</th>\n",
       "      <th>imp_op_var40_efect_ult3</th>\n",
       "      <th>...</th>\n",
       "      <th>saldo_medio_var33_hace2</th>\n",
       "      <th>saldo_medio_var33_hace3</th>\n",
       "      <th>saldo_medio_var33_ult1</th>\n",
       "      <th>saldo_medio_var33_ult3</th>\n",
       "      <th>saldo_medio_var44_hace2</th>\n",
       "      <th>saldo_medio_var44_hace3</th>\n",
       "      <th>saldo_medio_var44_ult1</th>\n",
       "      <th>saldo_medio_var44_ult3</th>\n",
       "      <th>var38</th>\n",
       "      <th>TARGET</th>\n",
       "    </tr>\n",
       "  </thead>\n",
       "  <tbody>\n",
       "    <tr>\n",
       "      <th>0</th>\n",
       "      <td>1</td>\n",
       "      <td>2</td>\n",
       "      <td>23</td>\n",
       "      <td>0.0</td>\n",
       "      <td>0.0</td>\n",
       "      <td>0.0</td>\n",
       "      <td>0.0</td>\n",
       "      <td>0.0</td>\n",
       "      <td>0.0</td>\n",
       "      <td>0.0</td>\n",
       "      <td>...</td>\n",
       "      <td>0.0</td>\n",
       "      <td>0.0</td>\n",
       "      <td>0.0</td>\n",
       "      <td>0.0</td>\n",
       "      <td>0.0</td>\n",
       "      <td>0.0</td>\n",
       "      <td>0.0</td>\n",
       "      <td>0.0</td>\n",
       "      <td>39205.170000</td>\n",
       "      <td>0</td>\n",
       "    </tr>\n",
       "    <tr>\n",
       "      <th>1</th>\n",
       "      <td>3</td>\n",
       "      <td>2</td>\n",
       "      <td>34</td>\n",
       "      <td>0.0</td>\n",
       "      <td>0.0</td>\n",
       "      <td>0.0</td>\n",
       "      <td>0.0</td>\n",
       "      <td>0.0</td>\n",
       "      <td>0.0</td>\n",
       "      <td>0.0</td>\n",
       "      <td>...</td>\n",
       "      <td>0.0</td>\n",
       "      <td>0.0</td>\n",
       "      <td>0.0</td>\n",
       "      <td>0.0</td>\n",
       "      <td>0.0</td>\n",
       "      <td>0.0</td>\n",
       "      <td>0.0</td>\n",
       "      <td>0.0</td>\n",
       "      <td>49278.030000</td>\n",
       "      <td>0</td>\n",
       "    </tr>\n",
       "    <tr>\n",
       "      <th>2</th>\n",
       "      <td>4</td>\n",
       "      <td>2</td>\n",
       "      <td>23</td>\n",
       "      <td>0.0</td>\n",
       "      <td>0.0</td>\n",
       "      <td>0.0</td>\n",
       "      <td>0.0</td>\n",
       "      <td>0.0</td>\n",
       "      <td>0.0</td>\n",
       "      <td>0.0</td>\n",
       "      <td>...</td>\n",
       "      <td>0.0</td>\n",
       "      <td>0.0</td>\n",
       "      <td>0.0</td>\n",
       "      <td>0.0</td>\n",
       "      <td>0.0</td>\n",
       "      <td>0.0</td>\n",
       "      <td>0.0</td>\n",
       "      <td>0.0</td>\n",
       "      <td>67333.770000</td>\n",
       "      <td>0</td>\n",
       "    </tr>\n",
       "    <tr>\n",
       "      <th>3</th>\n",
       "      <td>8</td>\n",
       "      <td>2</td>\n",
       "      <td>37</td>\n",
       "      <td>0.0</td>\n",
       "      <td>195.0</td>\n",
       "      <td>195.0</td>\n",
       "      <td>0.0</td>\n",
       "      <td>0.0</td>\n",
       "      <td>0.0</td>\n",
       "      <td>0.0</td>\n",
       "      <td>...</td>\n",
       "      <td>0.0</td>\n",
       "      <td>0.0</td>\n",
       "      <td>0.0</td>\n",
       "      <td>0.0</td>\n",
       "      <td>0.0</td>\n",
       "      <td>0.0</td>\n",
       "      <td>0.0</td>\n",
       "      <td>0.0</td>\n",
       "      <td>64007.970000</td>\n",
       "      <td>0</td>\n",
       "    </tr>\n",
       "    <tr>\n",
       "      <th>4</th>\n",
       "      <td>10</td>\n",
       "      <td>2</td>\n",
       "      <td>39</td>\n",
       "      <td>0.0</td>\n",
       "      <td>0.0</td>\n",
       "      <td>0.0</td>\n",
       "      <td>0.0</td>\n",
       "      <td>0.0</td>\n",
       "      <td>0.0</td>\n",
       "      <td>0.0</td>\n",
       "      <td>...</td>\n",
       "      <td>0.0</td>\n",
       "      <td>0.0</td>\n",
       "      <td>0.0</td>\n",
       "      <td>0.0</td>\n",
       "      <td>0.0</td>\n",
       "      <td>0.0</td>\n",
       "      <td>0.0</td>\n",
       "      <td>0.0</td>\n",
       "      <td>117310.979016</td>\n",
       "      <td>0</td>\n",
       "    </tr>\n",
       "  </tbody>\n",
       "</table>\n",
       "<p>5 rows × 371 columns</p>\n",
       "</div>"
      ],
      "text/plain": [
       "   ID  var3  var15  imp_ent_var16_ult1  imp_op_var39_comer_ult1  \\\n",
       "0   1     2     23                 0.0                      0.0   \n",
       "1   3     2     34                 0.0                      0.0   \n",
       "2   4     2     23                 0.0                      0.0   \n",
       "3   8     2     37                 0.0                    195.0   \n",
       "4  10     2     39                 0.0                      0.0   \n",
       "\n",
       "   imp_op_var39_comer_ult3  imp_op_var40_comer_ult1  imp_op_var40_comer_ult3  \\\n",
       "0                      0.0                      0.0                      0.0   \n",
       "1                      0.0                      0.0                      0.0   \n",
       "2                      0.0                      0.0                      0.0   \n",
       "3                    195.0                      0.0                      0.0   \n",
       "4                      0.0                      0.0                      0.0   \n",
       "\n",
       "   imp_op_var40_efect_ult1  imp_op_var40_efect_ult3  ...  \\\n",
       "0                      0.0                      0.0  ...   \n",
       "1                      0.0                      0.0  ...   \n",
       "2                      0.0                      0.0  ...   \n",
       "3                      0.0                      0.0  ...   \n",
       "4                      0.0                      0.0  ...   \n",
       "\n",
       "   saldo_medio_var33_hace2  saldo_medio_var33_hace3  saldo_medio_var33_ult1  \\\n",
       "0                      0.0                      0.0                     0.0   \n",
       "1                      0.0                      0.0                     0.0   \n",
       "2                      0.0                      0.0                     0.0   \n",
       "3                      0.0                      0.0                     0.0   \n",
       "4                      0.0                      0.0                     0.0   \n",
       "\n",
       "   saldo_medio_var33_ult3  saldo_medio_var44_hace2  saldo_medio_var44_hace3  \\\n",
       "0                     0.0                      0.0                      0.0   \n",
       "1                     0.0                      0.0                      0.0   \n",
       "2                     0.0                      0.0                      0.0   \n",
       "3                     0.0                      0.0                      0.0   \n",
       "4                     0.0                      0.0                      0.0   \n",
       "\n",
       "   saldo_medio_var44_ult1  saldo_medio_var44_ult3          var38  TARGET  \n",
       "0                     0.0                     0.0   39205.170000       0  \n",
       "1                     0.0                     0.0   49278.030000       0  \n",
       "2                     0.0                     0.0   67333.770000       0  \n",
       "3                     0.0                     0.0   64007.970000       0  \n",
       "4                     0.0                     0.0  117310.979016       0  \n",
       "\n",
       "[5 rows x 371 columns]"
      ]
     },
     "execution_count": 2,
     "metadata": {},
     "output_type": "execute_result"
    }
   ],
   "source": [
    "import pandas as pd\n",
    "import numpy as np\n",
    "import matplotlib.pyplot as plt\n",
    "import seaborn as sns\n",
    "\n",
    "\n",
    "df = pd.read_csv('train.csv')\n",
    "print(df.shape)\n",
    "df.head()"
   ]
  },
  {
   "cell_type": "code",
   "execution_count": 3,
   "id": "bec42cda",
   "metadata": {},
   "outputs": [
    {
     "name": "stdout",
     "output_type": "stream",
     "text": [
      "                             var3     var38     var15  imp_op_var39_comer_ult1\n",
      "var3                     1.000000  0.000071 -0.004452                 0.005989\n",
      "var38                    0.000071  1.000000  0.006497                 0.012546\n",
      "var15                   -0.004452  0.006497  1.000000                 0.094762\n",
      "imp_op_var39_comer_ult1  0.005989  0.012546  0.094762                 1.000000\n"
     ]
    },
    {
     "data": {
      "image/png": "[encoded data removed]",
      "text/plain": [
       "<Figure size 640x480 with 2 Axes>"
      ]
     },
     "metadata": {},
     "output_type": "display_data"
    }
   ],
   "source": [
    "print(df[['var3','var38','var15','imp_op_var39_comer_ult1']].corr())\n",
    "\n",
    "sns.heatmap(df[['var3','var38','var15','imp_op_var39_comer_ult1']].corr(), annot=True, cmap='coolwarm')\n",
    "plt.show()"
   ]
  },
  {
   "cell_type": "code",
   "execution_count": 4,
   "id": "53ba247c",
   "metadata": {},
   "outputs": [
    {
     "name": "stdout",
     "output_type": "stream",
     "text": [
      "TARGET                           1.000000\n",
      "var36                            0.102919\n",
      "var15                            0.101322\n",
      "ind_var8_0                       0.046665\n",
      "num_var8_0                       0.046622\n",
      "                                   ...   \n",
      "num_reemb_var33_hace3                 NaN\n",
      "num_trasp_var17_out_hace3             NaN\n",
      "num_trasp_var33_out_hace3             NaN\n",
      "saldo_var2_ult1                       NaN\n",
      "saldo_medio_var13_medio_hace3         NaN\n",
      "Name: TARGET, Length: 371, dtype: float64\n"
     ]
    }
   ],
   "source": [
    "target_corr = df.corr()['TARGET'].sort_values(ascending=False)\n",
    "print(target_corr)\n",
    "df.isnull().sum()"
   ]
  },
  {
   "cell_type": "code",
   "execution_count": 5,
   "id": "0c931262",
   "metadata": {},
   "outputs": [
    {
     "data": {
      "image/png": "[encoded data removed]",
      "text/plain": [
       "<Figure size 640x480 with 1 Axes>"
      ]
     },
     "metadata": {},
     "output_type": "display_data"
    },
    {
     "data": {
      "image/png": "[encoded data removed]",
      "text/plain": [
       "<Figure size 640x480 with 1 Axes>"
      ]
     },
     "metadata": {},
     "output_type": "display_data"
    }
   ],
   "source": [
    "sns.barplot(x='TARGET', y='var15', data=df)\n",
    "plt.title(\"Var15 vs Target\")\n",
    "plt.show()\n",
    "sns.scatterplot(x='var3', y='var38', hue='TARGET', data=df.sample(2000))\n",
    "plt.show()"
   ]
  },
  {
   "cell_type": "code",
   "execution_count": 6,
   "id": "d7126960",
   "metadata": {},
   "outputs": [
    {
     "data": {
      "image/png": "[encoded data removed]",
      "text/plain": [
       "<Figure size 640x480 with 2 Axes>"
      ]
     },
     "metadata": {},
     "output_type": "display_data"
    }
   ],
   "source": [
    "features = ['var3','var15','var38','imp_op_var39_comer_ult1','TARGET']\n",
    "corr = df[features].corr()\n",
    "\n",
    "sns.heatmap(corr, annot=True, cmap='coolwarm')\n",
    "plt.title(\"Correlation Heatmap\")\n",
    "plt.show()"
   ]
  },
  {
   "cell_type": "code",
   "execution_count": 7,
   "id": "cec27362",
   "metadata": {},
   "outputs": [
    {
     "name": "stdout",
     "output_type": "stream",
     "text": [
      "[0 1]\n",
      "TARGET\n",
      "0    73012\n",
      "1     3008\n",
      "Name: count, dtype: int64\n"
     ]
    }
   ],
   "source": [
    "print(df['TARGET'].unique())\n",
    "\n",
    "print(df['TARGET'].value_counts())\n"
   ]
  },
  {
   "cell_type": "code",
   "execution_count": 8,
   "id": "f1f75a1a",
   "metadata": {},
   "outputs": [
    {
     "name": "stdout",
     "output_type": "stream",
     "text": [
      "TARGET\n",
      "0    73012\n",
      "1    73012\n",
      "Name: count, dtype: int64\n"
     ]
    }
   ],
   "source": [
    "from imblearn.over_sampling import SMOTE\n",
    "\n",
    "smote = SMOTE(random_state=42)\n",
    "X = df.drop('TARGET', axis=1)\n",
    "y = df['TARGET']\n",
    "X_resampled, y_resampled = smote.fit_resample(X, y)\n",
    "\n",
    "print(y_resampled.value_counts())\n"
   ]
  },
  {
   "cell_type": "code",
   "execution_count": 9,
   "id": "6036ee62",
   "metadata": {},
   "outputs": [
    {
     "ename": "NameError",
     "evalue": "name 'corr_target' is not defined",
     "output_type": "error",
     "traceback": [
      "\u001b[31m---------------------------------------------------------------------------\u001b[39m",
      "\u001b[31mNameError\u001b[39m                                 Traceback (most recent call last)",
      "\u001b[36mCell\u001b[39m\u001b[36m \u001b[39m\u001b[32mIn[9]\u001b[39m\u001b[32m, line 2\u001b[39m\n\u001b[32m      1\u001b[39m orr_target = df.corr()[\u001b[33m'\u001b[39m\u001b[33mTARGET\u001b[39m\u001b[33m'\u001b[39m].abs()\n\u001b[32m----> \u001b[39m\u001b[32m2\u001b[39m selected_features = \u001b[43mcorr_target\u001b[49m[corr_target > \u001b[32m0.65\u001b[39m]\n\u001b[32m      3\u001b[39m \u001b[38;5;28mprint\u001b[39m(\u001b[33m\"\u001b[39m\u001b[33mSelected features:\u001b[39m\u001b[33m\"\u001b[39m, selected_features)\n",
      "\u001b[31mNameError\u001b[39m: name 'corr_target' is not defined"
     ]
    }
   ],
   "source": [
    "orr_target = df.corr()['TARGET'].abs()\n",
    "selected_features = corr_target[corr_target > 0.65]\n",
    "print(\"Selected features:\", selected_features)"
   ]
  },
  {
   "cell_type": "code",
   "execution_count": null,
   "id": "0e4620e2",
   "metadata": {},
   "outputs": [],
   "source": [
    "from sklearn.feature_selection import SelectKBest\n",
    "\n",
    "df_copy = df.copy()\n",
    "\n",
    "X = df_copy.drop('TARGET', axis=1)\n",
    "y = df_copy['TARGET']\n",
    "\n",
    "selector = SelectKBest(k=5)\n",
    "X_new = selector.fit_transform(X, y)\n",
    "\n",
    "selected_features = X.columns[selector.get_support()]\n",
    "print(selected_features.tolist())\n",
    "\n",
    "df_other_selected = df_copy[selected_features]"
   ]
  }
 ],
 "metadata": {
  "kernelspec": {
   "display_name": "Python 3",
   "language": "python",
   "name": "python3"
  },
  "language_info": {
   "codemirror_mode": {
    "name": "ipython",
    "version": 3
   },
   "file_extension": ".py",
   "mimetype": "text/x-python",
   "name": "python",
   "nbconvert_exporter": "python",
   "pygments_lexer": "ipython3",
   "version": "3.13.5"
  }
 },
 "nbformat": 4,
 "nbformat_minor": 5
}
