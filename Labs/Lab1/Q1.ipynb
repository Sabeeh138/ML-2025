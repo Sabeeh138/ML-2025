{
 "cells": [
  {
   "cell_type": "code",
   "execution_count": 1,
   "id": "340addcd",
   "metadata": {},
   "outputs": [
    {
     "name": "stdout",
     "output_type": "stream",
     "text": [
      "   test_score  writing_skills  reading_skills  attendance  sleep_hours pass\n",
      "0          90              88              85          90            7  Yes\n",
      "1          55              45              50          60            5   No\n",
      "2          72              70              68          75            6  Yes\n",
      "3          30              25              20          40            4   No\n",
      "4          85              80              82          95            8  Yes\n",
      "5          60              58              62          65            5  Yes\n",
      "6          40              38              35          45            3   No\n",
      "7          95              92              97          98            7  Yes\n",
      "8          50              48              52          55            4   No\n",
      "9          67              65              70          70            6  Yes\n"
     ]
    }
   ],
   "source": [
    "import pandas as pd\n",
    "import numpy as np\n",
    "dataset = pd.DataFrame({\n",
    "    'test_score':      [90, 55, 72, 30, 85, 60, 40, 95, 50, 67],\n",
    "    'writing_skills':  [88, 45, 70, 25, 80, 58, 38, 92, 48, 65],\n",
    "    'reading_skills':  [85, 50, 68, 20, 82, 62, 35, 97, 52, 70],\n",
    "    'attendance':      [90, 60, 75, 40, 95, 65, 45, 98, 55, 70],\n",
    "    'sleep_hours':     [7, 5, 6, 4, 8, 5, 3, 7, 4, 6],\n",
    "    'pass':            ['Yes','No','Yes','No','Yes','Yes','No','Yes','No','Yes']\n",
    "})\n",
    "\n",
    "print(dataset)"
   ]
  },
  {
   "cell_type": "code",
   "execution_count": 2,
   "id": "d8bb58ed",
   "metadata": {},
   "outputs": [],
   "source": [
    "# now by using list of dictionaries\n"
   ]
  },
  {
   "cell_type": "code",
   "execution_count": 3,
   "id": "18212624",
   "metadata": {},
   "outputs": [
    {
     "name": "stdout",
     "output_type": "stream",
     "text": [
      "   test_score  writing_skills  reading_skills  attendance  sleep_hours pass\n",
      "0          90              88              85          90            7  Yes\n",
      "1          55              45              50          60            5   No\n",
      "2          72              70              68          75            6  Yes\n"
     ]
    }
   ],
   "source": [
    "\n",
    "data = [\n",
    "    {'test_score': 90, 'writing_skills': 88, 'reading_skills': 85, 'attendance': 90, 'sleep_hours': 7, 'pass': 'Yes'},\n",
    "    {'test_score': 55, 'writing_skills': 45, 'reading_skills': 50, 'attendance': 60, 'sleep_hours': 5, 'pass': 'No'},\n",
    "    {'test_score': 72, 'writing_skills': 70, 'reading_skills': 68, 'attendance': 75, 'sleep_hours': 6, 'pass': 'Yes'}\n",
    "]\n",
    "\n",
    "dataset = pd.DataFrame(data)\n",
    "print(dataset)\n"
   ]
  },
  {
   "cell_type": "code",
   "execution_count": null,
   "id": "1f37035a",
   "metadata": {},
   "outputs": [],
   "source": []
  }
 ],
 "metadata": {
  "kernelspec": {
   "display_name": "Python 3",
   "language": "python",
   "name": "python3"
  },
  "language_info": {
   "codemirror_mode": {
    "name": "ipython",
    "version": 3
   },
   "file_extension": ".py",
   "mimetype": "text/x-python",
   "name": "python",
   "nbconvert_exporter": "python",
   "pygments_lexer": "ipython3",
   "version": "3.13.5"
  }
 },
 "nbformat": 4,
 "nbformat_minor": 5
}
